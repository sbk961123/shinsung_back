{
 "cells": [
  {
   "cell_type": "code",
   "execution_count": null,
   "metadata": {},
   "outputs": [],
   "source": [
    "from pipeline import quality_predict\n",
    "import pandas as pd\n",
    "\n",
    "df = pd.read_csv('auto_sample.csv')\n",
    "\n"
   ]
  },
  {
   "cell_type": "code",
   "execution_count": null,
   "metadata": {},
   "outputs": [],
   "source": [
    "input_cols = ['MAIN_Z-LEFT', 'MAIN_Z-MIDDLE', 'MAIN_Z-RIGHT',\n",
    "                'SUB1_CYCLE_TIME', 'SUB1_MAX_TEMP', 'SUB1_PV_TEMP', \n",
    "                'SUB2_CYCLE_TIME', 'SUB2_MAX_TEMP', 'SUB2_PV_TEMP', \n",
    "                'SUB3_CYCLE_TIME', 'SUB3_MAX_TEMP', 'SUB3_PV_TEMP',\n",
    "                'SUB4_CYCLE_TIME', 'SUB4_MAX_TEMP', 'SUB4_PV_TEMP', \n",
    "                'SUB5_CYCLE_TIME', 'SUB5_MAX_TEMP', 'SUB5_PV_TEMP',\n",
    "                'SUB6_CYCLE_TIME', 'SUB6_MAX_TEMP', 'SUB6_PV_TEMP']\n",
    "\n",
    "\n",
    "\n",
    "df = df[input_cols]"
   ]
  },
  {
   "cell_type": "code",
   "execution_count": null,
   "metadata": {},
   "outputs": [],
   "source": [
    "\"\"\"\n",
    "데이터 전처리 - 데이터 통계압축\n",
    "\"\"\"\n",
    "# 컬럼별 통계값 계산\n",
    "mean, std = df.mean(), df.std()\n",
    "\n",
    "# 인덱스명 변경\n",
    "mean.rename(lambda x: x + '_' + 'mean', inplace=True)\n",
    "std.rename(lambda x: x + '_' + 'std', inplace=True)\n",
    "\n",
    "# 데이터프레임 형태로 변경\n",
    "df_stat = pd.concat([mean, std], axis=0).to_frame().T.sort_index(axis=1)\n",
    "\n",
    "# 표준편차 값이 NaN인 경우(통계압축전 데이터개수=1) 0으로 대치\n",
    "df_stat.fillna(0, inplace=True)"
   ]
  },
  {
   "cell_type": "code",
   "execution_count": null,
   "metadata": {},
   "outputs": [],
   "source": [
    "df_stat"
   ]
  },
  {
   "cell_type": "code",
   "execution_count": null,
   "metadata": {},
   "outputs": [],
   "source": [
    "auto_bound = pd.read_excel('auto_bound.xlsx', index_col=0)"
   ]
  },
  {
   "cell_type": "code",
   "execution_count": null,
   "metadata": {},
   "outputs": [],
   "source": [
    "auto_bound"
   ]
  },
  {
   "cell_type": "code",
   "execution_count": null,
   "metadata": {},
   "outputs": [],
   "source": [
    "import numpy as np"
   ]
  },
  {
   "cell_type": "code",
   "execution_count": null,
   "metadata": {},
   "outputs": [],
   "source": [
    "df_stat.columns"
   ]
  },
  {
   "cell_type": "code",
   "execution_count": null,
   "metadata": {},
   "outputs": [],
   "source": [
    "df_stat.loc[0,'SUB3_PV_TEMP_mean']"
   ]
  },
  {
   "cell_type": "code",
   "execution_count": null,
   "metadata": {},
   "outputs": [],
   "source": [
    "isoutlier_df = ((df_stat > auto_bound['upper']) | (df_stat < auto_bound['lower'])).astype(int)\n"
   ]
  },
  {
   "cell_type": "code",
   "execution_count": null,
   "metadata": {},
   "outputs": [],
   "source": [
    "isoutlier_df"
   ]
  },
  {
   "cell_type": "code",
   "execution_count": null,
   "metadata": {},
   "outputs": [],
   "source": [
    "isoutlier_df['이상치개수'] = isoutlier_df.apply(np.sum, axis=1)\n"
   ]
  },
  {
   "cell_type": "code",
   "execution_count": null,
   "metadata": {},
   "outputs": [],
   "source": [
    "isoutlier_df"
   ]
  },
  {
   "cell_type": "code",
   "execution_count": null,
   "metadata": {},
   "outputs": [],
   "source": [
    "df456 = pd.read_excel('dataframe.xlsx')"
   ]
  },
  {
   "cell_type": "code",
   "execution_count": null,
   "metadata": {},
   "outputs": [],
   "source": [
    "df456"
   ]
  },
  {
   "cell_type": "code",
   "execution_count": null,
   "metadata": {},
   "outputs": [],
   "source": [
    "df4422 = pd.read_excel('Shinsung_AutoSoldering_minmax table.xlsx')"
   ]
  },
  {
   "cell_type": "code",
   "execution_count": null,
   "metadata": {},
   "outputs": [],
   "source": [
    "df4422"
   ]
  },
  {
   "cell_type": "code",
   "execution_count": null,
   "metadata": {},
   "outputs": [],
   "source": []
  },
  {
   "cell_type": "code",
   "execution_count": 1,
   "metadata": {},
   "outputs": [],
   "source": [
    "from pipeline import quality_predict\n",
    "import pandas as pd\n",
    "\n",
    "df = pd.read_csv('pipelinedata.csv')"
   ]
  },
  {
   "cell_type": "code",
   "execution_count": 2,
   "metadata": {},
   "outputs": [
    {
     "data": {
      "text/html": [
       "<div>\n",
       "<style scoped>\n",
       "    .dataframe tbody tr th:only-of-type {\n",
       "        vertical-align: middle;\n",
       "    }\n",
       "\n",
       "    .dataframe tbody tr th {\n",
       "        vertical-align: top;\n",
       "    }\n",
       "\n",
       "    .dataframe thead th {\n",
       "        text-align: right;\n",
       "    }\n",
       "</style>\n",
       "<table border=\"1\" class=\"dataframe\">\n",
       "  <thead>\n",
       "    <tr style=\"text-align: right;\">\n",
       "      <th></th>\n",
       "      <th>Unnamed: 0</th>\n",
       "      <th>TIMESTAMP</th>\n",
       "      <th>MAIN_Z-LEFT</th>\n",
       "      <th>MAIN_Z-MIDDLE</th>\n",
       "      <th>MAIN_Z-RIGHT</th>\n",
       "      <th>PLC_COUNTER1</th>\n",
       "      <th>PLC_COUNTER2</th>\n",
       "      <th>PLC_COUNTER3</th>\n",
       "      <th>PLC_COUNTER4</th>\n",
       "      <th>PLC_COUNTER5</th>\n",
       "      <th>...</th>\n",
       "      <th>SUB5_HEATING_STATUS</th>\n",
       "      <th>SUB5_MAX_TEMP</th>\n",
       "      <th>SUB5_PV_TEMP</th>\n",
       "      <th>SUB6_ALARM</th>\n",
       "      <th>SUB6_CYCLE_TIME</th>\n",
       "      <th>SUB6_HEATING_STATUS</th>\n",
       "      <th>SUB6_MAX_TEMP</th>\n",
       "      <th>SUB6_PV_TEMP</th>\n",
       "      <th>FR_TIME</th>\n",
       "      <th>TO_TIME</th>\n",
       "    </tr>\n",
       "  </thead>\n",
       "  <tbody>\n",
       "    <tr>\n",
       "      <th>0</th>\n",
       "      <td>0</td>\n",
       "      <td>2023-10-23 15:00:00.042</td>\n",
       "      <td>NaN</td>\n",
       "      <td>NaN</td>\n",
       "      <td>NaN</td>\n",
       "      <td>NaN</td>\n",
       "      <td>NaN</td>\n",
       "      <td>NaN</td>\n",
       "      <td>NaN</td>\n",
       "      <td>NaN</td>\n",
       "      <td>...</td>\n",
       "      <td>NaN</td>\n",
       "      <td>242.0</td>\n",
       "      <td>NaN</td>\n",
       "      <td>NaN</td>\n",
       "      <td>NaN</td>\n",
       "      <td>NaN</td>\n",
       "      <td>NaN</td>\n",
       "      <td>NaN</td>\n",
       "      <td>2023-10-23 15:00:00</td>\n",
       "      <td>2023-10-23 15:05:00</td>\n",
       "    </tr>\n",
       "    <tr>\n",
       "      <th>1</th>\n",
       "      <td>1</td>\n",
       "      <td>2023-10-23 15:00:00.080</td>\n",
       "      <td>NaN</td>\n",
       "      <td>NaN</td>\n",
       "      <td>NaN</td>\n",
       "      <td>NaN</td>\n",
       "      <td>NaN</td>\n",
       "      <td>NaN</td>\n",
       "      <td>NaN</td>\n",
       "      <td>NaN</td>\n",
       "      <td>...</td>\n",
       "      <td>NaN</td>\n",
       "      <td>NaN</td>\n",
       "      <td>NaN</td>\n",
       "      <td>NaN</td>\n",
       "      <td>NaN</td>\n",
       "      <td>NaN</td>\n",
       "      <td>NaN</td>\n",
       "      <td>NaN</td>\n",
       "      <td>2023-10-23 15:00:00</td>\n",
       "      <td>2023-10-23 15:05:00</td>\n",
       "    </tr>\n",
       "    <tr>\n",
       "      <th>2</th>\n",
       "      <td>2</td>\n",
       "      <td>2023-10-23 15:00:00.091</td>\n",
       "      <td>NaN</td>\n",
       "      <td>NaN</td>\n",
       "      <td>NaN</td>\n",
       "      <td>NaN</td>\n",
       "      <td>NaN</td>\n",
       "      <td>NaN</td>\n",
       "      <td>NaN</td>\n",
       "      <td>NaN</td>\n",
       "      <td>...</td>\n",
       "      <td>NaN</td>\n",
       "      <td>NaN</td>\n",
       "      <td>NaN</td>\n",
       "      <td>NaN</td>\n",
       "      <td>NaN</td>\n",
       "      <td>NaN</td>\n",
       "      <td>NaN</td>\n",
       "      <td>NaN</td>\n",
       "      <td>2023-10-23 15:00:00</td>\n",
       "      <td>2023-10-23 15:05:00</td>\n",
       "    </tr>\n",
       "    <tr>\n",
       "      <th>3</th>\n",
       "      <td>3</td>\n",
       "      <td>2023-10-23 15:00:00.105</td>\n",
       "      <td>NaN</td>\n",
       "      <td>NaN</td>\n",
       "      <td>NaN</td>\n",
       "      <td>NaN</td>\n",
       "      <td>NaN</td>\n",
       "      <td>NaN</td>\n",
       "      <td>NaN</td>\n",
       "      <td>NaN</td>\n",
       "      <td>...</td>\n",
       "      <td>NaN</td>\n",
       "      <td>NaN</td>\n",
       "      <td>NaN</td>\n",
       "      <td>NaN</td>\n",
       "      <td>NaN</td>\n",
       "      <td>NaN</td>\n",
       "      <td>NaN</td>\n",
       "      <td>NaN</td>\n",
       "      <td>2023-10-23 15:00:00</td>\n",
       "      <td>2023-10-23 15:05:00</td>\n",
       "    </tr>\n",
       "    <tr>\n",
       "      <th>4</th>\n",
       "      <td>4</td>\n",
       "      <td>2023-10-23 15:00:00.146</td>\n",
       "      <td>NaN</td>\n",
       "      <td>NaN</td>\n",
       "      <td>NaN</td>\n",
       "      <td>NaN</td>\n",
       "      <td>NaN</td>\n",
       "      <td>NaN</td>\n",
       "      <td>NaN</td>\n",
       "      <td>NaN</td>\n",
       "      <td>...</td>\n",
       "      <td>NaN</td>\n",
       "      <td>NaN</td>\n",
       "      <td>NaN</td>\n",
       "      <td>NaN</td>\n",
       "      <td>NaN</td>\n",
       "      <td>NaN</td>\n",
       "      <td>NaN</td>\n",
       "      <td>NaN</td>\n",
       "      <td>2023-10-23 15:00:00</td>\n",
       "      <td>2023-10-23 15:05:00</td>\n",
       "    </tr>\n",
       "  </tbody>\n",
       "</table>\n",
       "<p>5 rows × 43 columns</p>\n",
       "</div>"
      ],
      "text/plain": [
       "   Unnamed: 0                TIMESTAMP  MAIN_Z-LEFT  MAIN_Z-MIDDLE  \\\n",
       "0           0  2023-10-23 15:00:00.042          NaN            NaN   \n",
       "1           1  2023-10-23 15:00:00.080          NaN            NaN   \n",
       "2           2  2023-10-23 15:00:00.091          NaN            NaN   \n",
       "3           3  2023-10-23 15:00:00.105          NaN            NaN   \n",
       "4           4  2023-10-23 15:00:00.146          NaN            NaN   \n",
       "\n",
       "   MAIN_Z-RIGHT  PLC_COUNTER1  PLC_COUNTER2  PLC_COUNTER3  PLC_COUNTER4  \\\n",
       "0           NaN           NaN           NaN           NaN           NaN   \n",
       "1           NaN           NaN           NaN           NaN           NaN   \n",
       "2           NaN           NaN           NaN           NaN           NaN   \n",
       "3           NaN           NaN           NaN           NaN           NaN   \n",
       "4           NaN           NaN           NaN           NaN           NaN   \n",
       "\n",
       "   PLC_COUNTER5  ...  SUB5_HEATING_STATUS  SUB5_MAX_TEMP  SUB5_PV_TEMP  \\\n",
       "0           NaN  ...                  NaN          242.0           NaN   \n",
       "1           NaN  ...                  NaN            NaN           NaN   \n",
       "2           NaN  ...                  NaN            NaN           NaN   \n",
       "3           NaN  ...                  NaN            NaN           NaN   \n",
       "4           NaN  ...                  NaN            NaN           NaN   \n",
       "\n",
       "   SUB6_ALARM  SUB6_CYCLE_TIME  SUB6_HEATING_STATUS  SUB6_MAX_TEMP  \\\n",
       "0         NaN              NaN                  NaN            NaN   \n",
       "1         NaN              NaN                  NaN            NaN   \n",
       "2         NaN              NaN                  NaN            NaN   \n",
       "3         NaN              NaN                  NaN            NaN   \n",
       "4         NaN              NaN                  NaN            NaN   \n",
       "\n",
       "   SUB6_PV_TEMP              FR_TIME              TO_TIME  \n",
       "0           NaN  2023-10-23 15:00:00  2023-10-23 15:05:00  \n",
       "1           NaN  2023-10-23 15:00:00  2023-10-23 15:05:00  \n",
       "2           NaN  2023-10-23 15:00:00  2023-10-23 15:05:00  \n",
       "3           NaN  2023-10-23 15:00:00  2023-10-23 15:05:00  \n",
       "4           NaN  2023-10-23 15:00:00  2023-10-23 15:05:00  \n",
       "\n",
       "[5 rows x 43 columns]"
      ]
     },
     "execution_count": 2,
     "metadata": {},
     "output_type": "execute_result"
    }
   ],
   "source": [
    "df.head()"
   ]
  },
  {
   "cell_type": "code",
   "execution_count": 3,
   "metadata": {},
   "outputs": [
    {
     "name": "stderr",
     "output_type": "stream",
     "text": [
      "c:\\Users\\DELL WORKSTATION\\frontel\\shinsung\\autosoldering\\pipeline.py:137: SettingWithCopyWarning: \n",
      "A value is trying to be set on a copy of a slice from a DataFrame.\n",
      "Try using .loc[row_indexer,col_indexer] = value instead\n",
      "\n",
      "See the caveats in the documentation: https://pandas.pydata.org/pandas-docs/stable/user_guide/indexing.html#returning-a-view-versus-a-copy\n",
      "  X['OK/NG_pred']=''\n",
      "c:\\Users\\DELL WORKSTATION\\frontel\\shinsung\\autosoldering\\pipeline.py:138: SettingWithCopyWarning: \n",
      "A value is trying to be set on a copy of a slice from a DataFrame.\n",
      "Try using .loc[row_indexer,col_indexer] = value instead\n",
      "\n",
      "See the caveats in the documentation: https://pandas.pydata.org/pandas-docs/stable/user_guide/indexing.html#returning-a-view-versus-a-copy\n",
      "  X['OK/NG']=''\n",
      "c:\\Users\\DELL WORKSTATION\\frontel\\shinsung\\autosoldering\\pipeline.py:139: SettingWithCopyWarning: \n",
      "A value is trying to be set on a copy of a slice from a DataFrame.\n",
      "Try using .loc[row_indexer,col_indexer] = value instead\n",
      "\n",
      "See the caveats in the documentation: https://pandas.pydata.org/pandas-docs/stable/user_guide/indexing.html#returning-a-view-versus-a-copy\n",
      "  X['OK/NG_pred']=pred\n",
      "c:\\Users\\DELL WORKSTATION\\frontel\\shinsung\\autosoldering\\pipeline.py:140: SettingWithCopyWarning: \n",
      "A value is trying to be set on a copy of a slice from a DataFrame.\n",
      "Try using .loc[row_indexer,col_indexer] = value instead\n",
      "\n",
      "See the caveats in the documentation: https://pandas.pydata.org/pandas-docs/stable/user_guide/indexing.html#returning-a-view-versus-a-copy\n",
      "  X['OK/NG']=df_stat2['OK/NG'][0]\n",
      "c:\\Users\\DELL WORKSTATION\\frontel\\shinsung\\autosoldering\\pipeline.py:141: SettingWithCopyWarning: \n",
      "A value is trying to be set on a copy of a slice from a DataFrame.\n",
      "Try using .loc[row_indexer,col_indexer] = value instead\n",
      "\n",
      "See the caveats in the documentation: https://pandas.pydata.org/pandas-docs/stable/user_guide/indexing.html#returning-a-view-versus-a-copy\n",
      "  X['TO_TIME']=''\n",
      "c:\\Users\\DELL WORKSTATION\\frontel\\shinsung\\autosoldering\\pipeline.py:142: SettingWithCopyWarning: \n",
      "A value is trying to be set on a copy of a slice from a DataFrame.\n",
      "Try using .loc[row_indexer,col_indexer] = value instead\n",
      "\n",
      "See the caveats in the documentation: https://pandas.pydata.org/pandas-docs/stable/user_guide/indexing.html#returning-a-view-versus-a-copy\n",
      "  X['TO_TIME']=df['TO_TIME']\n",
      "c:\\Users\\DELL WORKSTATION\\frontel\\shinsung\\autosoldering\\pipeline.py:143: SettingWithCopyWarning: \n",
      "A value is trying to be set on a copy of a slice from a DataFrame.\n",
      "Try using .loc[row_indexer,col_indexer] = value instead\n",
      "\n",
      "See the caveats in the documentation: https://pandas.pydata.org/pandas-docs/stable/user_guide/indexing.html#returning-a-view-versus-a-copy\n",
      "  X['FR_TIME']=''\n",
      "c:\\Users\\DELL WORKSTATION\\frontel\\shinsung\\autosoldering\\pipeline.py:144: SettingWithCopyWarning: \n",
      "A value is trying to be set on a copy of a slice from a DataFrame.\n",
      "Try using .loc[row_indexer,col_indexer] = value instead\n",
      "\n",
      "See the caveats in the documentation: https://pandas.pydata.org/pandas-docs/stable/user_guide/indexing.html#returning-a-view-versus-a-copy\n",
      "  X['FR_TIME']=df['FR_TIME']\n",
      "c:\\Users\\DELL WORKSTATION\\frontel\\shinsung\\autosoldering\\pipeline.py:145: SettingWithCopyWarning: \n",
      "A value is trying to be set on a copy of a slice from a DataFrame.\n",
      "Try using .loc[row_indexer,col_indexer] = value instead\n",
      "\n",
      "See the caveats in the documentation: https://pandas.pydata.org/pandas-docs/stable/user_guide/indexing.html#returning-a-view-versus-a-copy\n",
      "  X['check']=''\n",
      "c:\\Users\\DELL WORKSTATION\\frontel\\shinsung\\autosoldering\\pipeline.py:147: SettingWithCopyWarning: \n",
      "A value is trying to be set on a copy of a slice from a DataFrame.\n",
      "Try using .loc[row_indexer,col_indexer] = value instead\n",
      "\n",
      "See the caveats in the documentation: https://pandas.pydata.org/pandas-docs/stable/user_guide/indexing.html#returning-a-view-versus-a-copy\n",
      "  X['check'] = 'OK'\n",
      "c:\\Users\\DELL WORKSTATION\\frontel\\shinsung\\autosoldering\\pipeline.py:153: SettingWithCopyWarning: \n",
      "A value is trying to be set on a copy of a slice from a DataFrame.\n",
      "Try using .loc[row_indexer,col_indexer] = value instead\n",
      "\n",
      "See the caveats in the documentation: https://pandas.pydata.org/pandas-docs/stable/user_guide/indexing.html#returning-a-view-versus-a-copy\n",
      "  X[Xcols] = X[Xcols].round(2)\n"
     ]
    }
   ],
   "source": [
    "\n",
    "pred = quality_predict(df)\n",
    "\n"
   ]
  },
  {
   "cell_type": "code",
   "execution_count": 5,
   "metadata": {},
   "outputs": [
    {
     "data": {
      "text/plain": [
       "37"
      ]
     },
     "execution_count": 5,
     "metadata": {},
     "output_type": "execute_result"
    }
   ],
   "source": [
    "len(pred.columns)"
   ]
  },
  {
   "cell_type": "code",
   "execution_count": 6,
   "metadata": {},
   "outputs": [
    {
     "data": {
      "text/plain": [
       "Index(['MAIN_Z-LEFT_mean', 'MAIN_Z-LEFT_std', 'MAIN_Z-MIDDLE_mean',\n",
       "       'MAIN_Z-MIDDLE_std', 'MAIN_Z-RIGHT_mean', 'MAIN_Z-RIGHT_std',\n",
       "       'SUB1_CYCLE_TIME_mean', 'SUB1_CYCLE_TIME_std', 'SUB1_MAX_TEMP_mean',\n",
       "       'SUB1_MAX_TEMP_std', 'SUB1_PV_TEMP_mean', 'SUB1_PV_TEMP_std',\n",
       "       'SUB2_CYCLE_TIME_mean', 'SUB2_MAX_TEMP_mean', 'SUB2_MAX_TEMP_std',\n",
       "       'SUB2_PV_TEMP_mean', 'SUB2_PV_TEMP_std', 'SUB3_CYCLE_TIME_mean',\n",
       "       'SUB3_MAX_TEMP_mean', 'SUB3_MAX_TEMP_std', 'SUB3_PV_TEMP_mean',\n",
       "       'SUB3_PV_TEMP_std', 'SUB4_CYCLE_TIME_mean', 'SUB4_MAX_TEMP_mean',\n",
       "       'SUB4_MAX_TEMP_std', 'SUB4_PV_TEMP_std', 'SUB5_CYCLE_TIME_mean',\n",
       "       'SUB5_MAX_TEMP_mean', 'SUB5_MAX_TEMP_std', 'SUB6_CYCLE_TIME_mean',\n",
       "       'SUB6_MAX_TEMP_mean', 'SUB6_MAX_TEMP_std', 'OK/NG_pred', 'OK/NG',\n",
       "       'TO_TIME', 'FR_TIME', 'check'],\n",
       "      dtype='object')"
      ]
     },
     "execution_count": 6,
     "metadata": {},
     "output_type": "execute_result"
    }
   ],
   "source": [
    "pred.columns"
   ]
  },
  {
   "cell_type": "code",
   "execution_count": null,
   "metadata": {},
   "outputs": [],
   "source": [
    "pred.to_excel('pipeline.xlsx')\n"
   ]
  },
  {
   "cell_type": "code",
   "execution_count": null,
   "metadata": {},
   "outputs": [],
   "source": []
  },
  {
   "cell_type": "code",
   "execution_count": null,
   "metadata": {},
   "outputs": [],
   "source": []
  },
  {
   "cell_type": "code",
   "execution_count": null,
   "metadata": {},
   "outputs": [],
   "source": []
  }
 ],
 "metadata": {
  "kernelspec": {
   "display_name": "kjenv2",
   "language": "python",
   "name": "python3"
  },
  "language_info": {
   "codemirror_mode": {
    "name": "ipython",
    "version": 3
   },
   "file_extension": ".py",
   "mimetype": "text/x-python",
   "name": "python",
   "nbconvert_exporter": "python",
   "pygments_lexer": "ipython3",
   "version": "3.9.17"
  }
 },
 "nbformat": 4,
 "nbformat_minor": 2
}
